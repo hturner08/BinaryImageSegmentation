{
 "cells": [
  {
   "cell_type": "markdown",
   "metadata": {},
   "source": [
    "# Introduction\n",
    "We have determined that for our binary segmentation we will be looking to identify the following classes vs. the rest:\n",
    "\n",
    "| Class                    | ID | # of Training Examples | # Of Validation Examples |\n",
    "|--------------------------|----|------------------------|--------------------------|\n",
    "| Tree                     | 5  | 6678                   | 641                      |\n",
    "| Grass                    | 10 | 2423                   | 225                      |\n",
    "| Water                    | 22 | 709                    | 75                       |\n",
    "| Plant, Flora, Plant Life | 18 | 3991                   | 441                      |"
   ]
  },
  {
   "cell_type": "code",
   "execution_count": null,
   "metadata": {},
   "outputs": [],
   "source": []
  }
 ],
 "metadata": {
  "kernelspec": {
   "display_name": "Python 3",
   "language": "python",
   "name": "python3"
  },
  "language_info": {
   "codemirror_mode": {
    "name": "ipython",
    "version": 3
   },
   "file_extension": ".py",
   "mimetype": "text/x-python",
   "name": "python",
   "nbconvert_exporter": "python",
   "pygments_lexer": "ipython3",
   "version": "3.6.10"
  }
 },
 "nbformat": 4,
 "nbformat_minor": 4
}
